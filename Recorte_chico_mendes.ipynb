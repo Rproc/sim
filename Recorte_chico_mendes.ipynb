{
 "cells": [
  {
   "cell_type": "code",
   "execution_count": 1,
   "metadata": {},
   "outputs": [],
   "source": [
    "import pandas as pd\n",
    "from pyproj import Proj, transform\n",
    "import fiona\n",
    "from fiona.crs import from_epsg\n",
    "import logging\n",
    "import sys\n",
    "from aabbtree import AABB, AABBTree\n",
    "\n",
    "\n",
    "# outProj = Proj(init='epsg:3857')\n",
    "# inProj = Proj(init='epsg:4326') # It is equal to WSG"
   ]
  },
  {
   "cell_type": "code",
   "execution_count": 53,
   "metadata": {},
   "outputs": [],
   "source": [
    "# Parametros\n",
    "\n",
    "espacamento = 50\n",
    "n = 5 # multiplicador da area de amortização"
   ]
  },
  {
   "cell_type": "code",
   "execution_count": 3,
   "metadata": {},
   "outputs": [
    {
     "name": "stdout",
     "output_type": "stream",
     "text": [
      "{'properties': OrderedDict([('id', 'float:19'), ('Unidade_de', 'str:254'), ('Categoria', 'str:254'), ('Ano_de_Cri', 'int:9'), ('Zoneamento', 'str:254'), ('Área_hecta', 'float:33.15'), ('Jurisdição', 'str:254'), ('Plano_de_M', 'str:254')]), 'geometry': 'Polygon'}\n"
     ]
    }
   ],
   "source": [
    "# Carregar base em metros da area de preservação do chico mendes\n",
    "chico_mendes = fiona.open(\"Mapas_sim/shapes_sim_meters/area_chico_mendes.shp\")\n",
    "print (chico_mendes.schema)"
   ]
  },
  {
   "cell_type": "code",
   "execution_count": 4,
   "metadata": {},
   "outputs": [
    {
     "data": {
      "text/plain": [
       "{'type': 'Feature',\n",
       " 'id': '0',\n",
       " 'properties': OrderedDict([('id', 897.0),\n",
       "              ('Unidade_de', 'PARQUE NATURAL MUNICIPAL CHICO MENDES'),\n",
       "              ('Categoria', 'PROTEÇÃO INTEGRAL'),\n",
       "              ('Ano_de_Cri', None),\n",
       "              ('Zoneamento', None),\n",
       "              ('Área_hecta', 40.65),\n",
       "              ('Jurisdição', 'MUNICIPAL'),\n",
       "              ('Plano_de_M', None)]),\n",
       " 'geometry': {'type': 'Polygon',\n",
       "  'coordinates': [[(-4838947.215019874, -2634641.6353100897),\n",
       "    (-4838947.215019874, -2634641.6353100897),\n",
       "    (-4838911.530555228, -2634641.478797528),\n",
       "    (-4838880.228516291, -2634641.665790127),\n",
       "    (-4838865.3888489315, -2634642.0394124887),\n",
       "    (-4838850.586696242, -2634643.1607634327),\n",
       "    (-4838835.858904972, -2634645.0269402442),\n",
       "    (-4838821.242655828, -2634647.6333469907),\n",
       "    (-4838806.774795566, -2634650.973331637),\n",
       "    (-4838792.491503024, -2634655.038669846),\n",
       "    (-4838778.428845712, -2634659.8189602373),\n",
       "    (-4838764.622223226, -2634665.3021081625),\n",
       "    (-4838751.106144611, -2634671.474688582),\n",
       "    (-4838737.914896271, -2634678.320857462),\n",
       "    (-4838725.081317457, -2634685.823561296),\n",
       "    (-4838712.638024779, -2634693.9638113813),\n",
       "    (-4838703.74649177, -2634700.5311931195),\n",
       "    (-4838695.286321784, -2634707.6518165837),\n",
       "    (-4838687.291467278, -2634715.2967747194),\n",
       "    (-4838679.793876932, -2634723.435467131),\n",
       "    (-4838672.823718335, -2634732.0353581333),\n",
       "    (-4838666.409044003, -2634741.061855826),\n",
       "    (-4838660.575568726, -2634750.4786749203),\n",
       "    (-4838655.346669604, -2634760.2481995774),\n",
       "    (-4838650.743274698, -2634770.3309996077),\n",
       "    (-4838646.327119185, -2634781.9293539934),\n",
       "    (-4838642.682630373, -2634793.7959918333),\n",
       "    (-4838639.825949596, -2634805.8787826486),\n",
       "    (-4838637.769210686, -2634818.125112006),\n",
       "    (-4838636.521764472, -2634830.481276714),\n",
       "    (-4838636.088731658, -2634842.893452503),\n",
       "    (-4838636.472338621, -2634855.3072101413),\n",
       "    (-4838637.670692935, -2634867.6683621467),\n",
       "    (-4838637.669802382, -2634867.6627982585),\n",
       "    (-4838637.670025018, -2634867.6572343614),\n",
       "    (-4838637.671026897, -2634867.6516704666),\n",
       "    (-4838637.673030646, -2634867.646348483),\n",
       "    (-4838637.675813634, -2634867.6415103157),\n",
       "    (-4838637.679487176, -2634867.6371559636),\n",
       "    (-4838637.683717316, -2634867.6334063797),\n",
       "    (-4838637.688392736, -2634867.630503484),\n",
       "    (-4838637.6936247535, -2634867.6284472626),\n",
       "    (-4838637.699079408, -2634867.627116769),\n",
       "    (-4838637.7047566995, -2634867.6268748534),\n",
       "    (-4838637.710322678, -2634867.627479626),\n",
       "    (-4838637.715666014, -2634867.629052035),\n",
       "    (-4838637.7207867075, -2634867.631471113),\n",
       "    (-4838637.725350808, -2634867.634615926),\n",
       "    (-4838637.729246988, -2634867.6386074093),\n",
       "    (-4838637.732586575, -2634867.643082719),\n",
       "    (-4838637.735146923, -2634867.648162795),\n",
       "    (-4838637.736816715, -2634867.653605733),\n",
       "    (-4838642.704894271, -2634889.211529494),\n",
       "    (-4838648.05234865, -2634910.6775563057),\n",
       "    (-4838653.77784402, -2634932.0449123615),\n",
       "    (-4838656.959689021, -2634941.9032056225),\n",
       "    (-4838660.948377701, -2634951.460085426),\n",
       "    (-4838665.716191491, -2634960.649026038),\n",
       "    (-4838671.229734547, -2634969.4056788064),\n",
       "    (-4838813.805623291, -2635180.407766549),\n",
       "    (-4838920.270916362, -2635330.62218693),\n",
       "    (-4838924.844143683, -2635336.634629301),\n",
       "    (-4838930.05912787, -2635342.0933294334),\n",
       "    (-4838935.849856464, -2635346.92934084),\n",
       "    (-4838942.143415193, -2635351.0817002486),\n",
       "    (-4838948.860210632, -2635354.497911441),\n",
       "    (-4838955.915751273, -2635357.1350339185),\n",
       "    (-4838963.220758901, -2635358.959561985),\n",
       "    (-4838970.683283607, -2635359.9487552955),\n",
       "    (-4838978.208926459, -2635360.089792147),\n",
       "    (-4838985.702843264, -2635359.381100087),\n",
       "    (-4839139.494838614, -2635332.4086103635),\n",
       "    (-4839139.494838614, -2635332.4086103635),\n",
       "    (-4839160.742723782, -2635326.912053746),\n",
       "    (-4839181.822182555, -2635320.794986657),\n",
       "    (-4839202.715403825, -2635314.0622481136),\n",
       "    (-4839223.404576466, -2635306.719886729),\n",
       "    (-4839243.872112003, -2635298.7739512213),\n",
       "    (-4839264.100533272, -2635290.2312160614),\n",
       "    (-4839288.039233171, -2635278.824338337),\n",
       "    (-4839311.675255372, -2635266.795627809),\n",
       "    (-4839334.992235915, -2635254.1531899706),\n",
       "    (-4839357.974701388, -2635240.9054932273),\n",
       "    (-4839380.607067057, -2635227.06161084),\n",
       "    (-4839402.873970843, -2635212.630857981),\n",
       "    (-4839424.760384607, -2635197.6229127483),\n",
       "    (-4839446.251614182, -2635182.0481789946),\n",
       "    (-4839467.333076706, -2635165.916697729),\n",
       "    (-4839467.333076706, -2635165.916697729),\n",
       "    (-4839478.257637575, -2635158.313137323),\n",
       "    (-4839488.719443324, -2635150.0777047486),\n",
       "    (-4839498.682426432, -2635141.238583774),\n",
       "    (-4839508.112189174, -2635131.826377273),\n",
       "    (-4839516.976226266, -2635121.873623438),\n",
       "    (-4839525.243813532, -2635111.4146747664),\n",
       "    (-4839532.88656449, -2635100.4855770995),\n",
       "    (-4839543.7002511425, -2635083.32327018),\n",
       "    (-4839553.86661496, -2635065.7655772287),\n",
       "    (-4839563.37162968, -2635047.8370534945),\n",
       "    (-4839572.20182565, -2635029.5626170146),\n",
       "    (-4839576.744440112, -2635018.679174362),\n",
       "    (-4839580.492567366, -2635007.4935927754),\n",
       "    (-4839583.426837824, -2634996.0648989985),\n",
       "    (-4839585.531778076, -2634984.4527243897),\n",
       "    (-4839586.796256171, -2634972.7179096993),\n",
       "    (-4839587.213704263, -2634960.921779327),\n",
       "    (-4839586.782007275, -2634949.1261412967),\n",
       "    (-4839585.503502927, -2634937.3929244387),\n",
       "    (-4839583.384536417, -2634925.783331661),\n",
       "    (-4839580.436573659, -2634914.358202834),\n",
       "    (-4839576.674976752, -2634903.1774100275),\n",
       "    (-4839572.119337907, -2634892.2993737147),\n",
       "    (-4839566.793590826, -2634881.7810627623),\n",
       "    (-4839559.87786746, -2634870.061804098),\n",
       "    (-4839552.311481675, -2634858.756579855),\n",
       "    (-4839544.118589788, -2634847.9019173076),\n",
       "    (-4839535.325908495, -2634837.5330131534),\n",
       "    (-4839525.961601604, -2634827.6831287993),\n",
       "    (-4839516.056170677, -2634818.384195117),\n",
       "    (-4839505.641341759, -2634809.666086743),\n",
       "    (-4839494.750955972, -2634801.557226875),\n",
       "    (-4839483.420078961, -2634794.0836196262),\n",
       "    (-4839471.685334839, -2634787.2695758115),\n",
       "    (-4839459.584683553, -2634781.1369871977),\n",
       "    (-4839447.157198237, -2634775.7054474754),\n",
       "    (-4839434.442842597, -2634770.9929780276),\n",
       "    (-4839421.482916163, -2634767.0144554907),\n",
       "    (-4838984.379588474, -2634646.365885052),\n",
       "    (-4838975.209200143, -2634644.355169786),\n",
       "    (-4838965.936620518, -2634642.893458326),\n",
       "    (-4838956.594354895, -2634641.985830523),\n",
       "    (-4838947.215019874, -2634641.6353100897)]]}}"
      ]
     },
     "execution_count": 4,
     "metadata": {},
     "output_type": "execute_result"
    }
   ],
   "source": [
    "# Estrutura dos arquivos com dados\n",
    "chico_mendes[0]"
   ]
  },
  {
   "cell_type": "code",
   "execution_count": 5,
   "metadata": {},
   "outputs": [],
   "source": [
    "listaCoordenadas = chico_mendes[0]['geometry']['coordinates']"
   ]
  },
  {
   "cell_type": "code",
   "execution_count": 6,
   "metadata": {},
   "outputs": [
    {
     "data": {
      "text/plain": [
       "list"
      ]
     },
     "execution_count": 6,
     "metadata": {},
     "output_type": "execute_result"
    }
   ],
   "source": [
    "type(listaCoordenadas)"
   ]
  },
  {
   "cell_type": "code",
   "execution_count": 7,
   "metadata": {},
   "outputs": [],
   "source": [
    "# retirar ponto x máximo e ponto x mínimo, referente a projeção 3857\n",
    "# analogo para o ymin e ymax\n",
    "\n",
    "xmin = 999999999999999\n",
    "xmax = -99999999999999\n",
    "ymax = xmax\n",
    "ymin = xmin\n",
    "for elem in listaCoordenadas[0]:\n",
    "    \n",
    "    if elem[0] > xmax:\n",
    "        xmax = elem[0]\n",
    "    elif elem[0] < xmin:\n",
    "        xmin = elem[0]\n",
    "        \n",
    "    if elem[1] > ymax:\n",
    "        ymax = elem[1]\n",
    "    elif elem[1] < ymin:\n",
    "        ymin = elem[1]"
   ]
  },
  {
   "cell_type": "code",
   "execution_count": 8,
   "metadata": {},
   "outputs": [
    {
     "name": "stdout",
     "output_type": "stream",
     "text": [
      "X Max:  -4838636.088731658 \n",
      "X Min:  -4839587.213704263\n",
      "YMax:  -2634641.478797528 \n",
      "Y Min:  -2635360.089792147\n"
     ]
    }
   ],
   "source": [
    "print('X Max: ', xmax, '\\nX Min: ', xmin)\n",
    "print('YMax: ', ymax, '\\nY Min: ', ymin)"
   ]
  },
  {
   "cell_type": "code",
   "execution_count": 54,
   "metadata": {},
   "outputs": [],
   "source": [
    "yminAmortizado = ymin + (-2*espacamento) \n",
    "ymaxAmortizado = ymax + (2*espacamento) \n",
    "xminAmortizado = xmin + (-2*espacamento) \n",
    "xmaxAmortizado = xmax + (2*espacamento)"
   ]
  },
  {
   "cell_type": "code",
   "execution_count": 55,
   "metadata": {},
   "outputs": [
    {
     "name": "stdout",
     "output_type": "stream",
     "text": [
      "X Max:  -4838536.088731658 \n",
      "X Min:  -4839687.213704263\n",
      "YMax:  -2634541.478797528 \n",
      "Y Min:  -2635460.089792147\n"
     ]
    }
   ],
   "source": [
    "print('X Max: ', xmaxAmortizado, '\\nX Min: ', xminAmortizado)\n",
    "print('YMax: ', ymaxAmortizado, '\\nY Min: ', yminAmortizado)"
   ]
  },
  {
   "cell_type": "code",
   "execution_count": 56,
   "metadata": {},
   "outputs": [],
   "source": [
    "tree = AABBTree()\n",
    "\n",
    "treeEstudo = AABBTree()\n",
    "# (xmin, xmax), (ymin, ymax)\n",
    "area_estudo = AABB([(xmin, xmax), (ymin, ymax)])\n",
    "\n",
    "area_amortizada = AABB([(xminAmortizado, xmaxAmortizado), (yminAmortizado, ymaxAmortizado)])\n"
   ]
  },
  {
   "cell_type": "code",
   "execution_count": 57,
   "metadata": {},
   "outputs": [
    {
     "name": "stdout",
     "output_type": "stream",
     "text": [
      "True\n"
     ]
    }
   ],
   "source": [
    "# aabb2 = AABB([(10,15), (10,15)])\n",
    "\n",
    "tree.add(area_amortizada, 'envol')\n",
    "treeEstudo.add(area_estudo)\n",
    "a = tree.does_overlap(area_estudo)\n",
    "\n",
    "print(a)\n"
   ]
  },
  {
   "cell_type": "code",
   "execution_count": 14,
   "metadata": {},
   "outputs": [
    {
     "name": "stdout",
     "output_type": "stream",
     "text": [
      "{'properties': OrderedDict([('INEP', 'int:9'), ('Escola', 'str:254'), ('Rede', 'str:254'), ('Localizaçã', 'str:254'), ('Município', 'str:254'), ('Bairro', 'str:254'), ('Endereço', 'str:254'), ('Telefone', 'str:254'), ('Total_Matr', 'float:19'), ('Infantil', 'float:19'), ('Creche', 'float:19'), ('PreEscola', 'float:19'), ('Fundamenta', 'float:19'), ('Fundament0', 'float:19'), ('Fundament1', 'float:19'), ('Ensino_Med', 'float:19'), ('Profission', 'int:9'), ('EJA', 'int:9'), ('Especial', 'int:9'), ('Latitude', 'float:33.15'), ('Longitude', 'float:33.15')]), 'geometry': 'Point'}\n"
     ]
    }
   ],
   "source": [
    "escolas = fiona.open(\"Mapas_sim/shapes_sim_meters/escola_metros.shp\")\n",
    "print (escolas.schema)"
   ]
  },
  {
   "cell_type": "code",
   "execution_count": 22,
   "metadata": {},
   "outputs": [
    {
     "data": {
      "text/plain": [
       "{'type': 'Point', 'coordinates': (-4809884.843755053, -2627191.2669907277)}"
      ]
     },
     "execution_count": 22,
     "metadata": {},
     "output_type": "execute_result"
    }
   ],
   "source": [
    "escolas[0]['geometry']"
   ]
  },
  {
   "cell_type": "code",
   "execution_count": 24,
   "metadata": {},
   "outputs": [],
   "source": [
    "a,b = escolas[0]['geometry']['coordinates']\n"
   ]
  },
  {
   "cell_type": "code",
   "execution_count": 26,
   "metadata": {},
   "outputs": [
    {
     "data": {
      "text/plain": [
       "-4809884.843755053"
      ]
     },
     "execution_count": 26,
     "metadata": {},
     "output_type": "execute_result"
    }
   ],
   "source": [
    "a"
   ]
  },
  {
   "cell_type": "code",
   "execution_count": 34,
   "metadata": {},
   "outputs": [],
   "source": [
    "listaEscolas = []\n",
    "\n",
    "for escola in escolas:\n",
    "    x, y = escola['geometry']['coordinates']\n",
    "    \n",
    "    t = AABB([(x, x), (y, y)])\n",
    "    \n",
    "    if(tree.does_overlap(t)):\n",
    "        listaEscolas.append(escola)\n",
    "    "
   ]
  },
  {
   "cell_type": "code",
   "execution_count": 37,
   "metadata": {},
   "outputs": [],
   "source": [
    "sink_schema = escolas.schema.copy()\n",
    "with fiona.open(\n",
    "        'escola_estudo.shp', 'w',\n",
    "        crs=from_epsg(3857),\n",
    "        driver=escolas.driver,\n",
    "        schema=sink_schema,\n",
    "        ) as sink:\n",
    "    \n",
    "    for e in listaEscolas:\n",
    "        sink.write(e)"
   ]
  },
  {
   "cell_type": "code",
   "execution_count": 38,
   "metadata": {},
   "outputs": [
    {
     "name": "stdout",
     "output_type": "stream",
     "text": [
      "{'properties': OrderedDict([('Município', 'str:254'), ('Código_CNE', 'str:254'), ('Razão_Soci', 'str:254'), ('Estabeleci', 'str:254'), ('CNPJ_Mante', 'str:254'), ('Endereço', 'str:254'), ('Telefone', 'str:254'), ('Email_ou_F', 'str:254'), ('Tipo', 'str:254'), ('Gestão', 'str:254')]), 'geometry': 'Point'}\n"
     ]
    }
   ],
   "source": [
    "saude = fiona.open(\"Mapas_sim/shapes_sim_meters/saude_metros.shp\")\n",
    "print (saude.schema)"
   ]
  },
  {
   "cell_type": "code",
   "execution_count": 39,
   "metadata": {},
   "outputs": [],
   "source": [
    "listaSaude = []\n",
    "\n",
    "for unidade in saude:\n",
    "    x, y = unidade['geometry']['coordinates']\n",
    "    \n",
    "    t = AABB([(x, x), (y, y)])\n",
    "    \n",
    "    if(tree.does_overlap(t)):\n",
    "        listaSaude.append(unidade)\n",
    "    "
   ]
  },
  {
   "cell_type": "code",
   "execution_count": 40,
   "metadata": {},
   "outputs": [
    {
     "data": {
      "text/plain": [
       "[]"
      ]
     },
     "execution_count": 40,
     "metadata": {},
     "output_type": "execute_result"
    }
   ],
   "source": [
    "listaSaude"
   ]
  },
  {
   "cell_type": "code",
   "execution_count": 42,
   "metadata": {},
   "outputs": [
    {
     "name": "stdout",
     "output_type": "stream",
     "text": [
      "{'properties': OrderedDict([('Nome_da_Li', 'str:254'), ('Número_da_', 'str:254'), ('Rota', 'str:254')]), 'geometry': 'MultiPoint'}\n"
     ]
    }
   ],
   "source": [
    "onibus = fiona.open(\"Mapas_sim/shapes_sim_meters/ponto_onibus_metros.shp\")\n",
    "print (onibus.schema)"
   ]
  },
  {
   "cell_type": "code",
   "execution_count": 62,
   "metadata": {},
   "outputs": [
    {
     "data": {
      "text/plain": [
       "499"
      ]
     },
     "execution_count": 62,
     "metadata": {},
     "output_type": "execute_result"
    }
   ],
   "source": [
    "len(onibus)#['geometry']['coordinates'][176]\n"
   ]
  },
  {
   "cell_type": "code",
   "execution_count": 79,
   "metadata": {},
   "outputs": [],
   "source": [
    "listaOnibus = []\n",
    "i = 0\n",
    "for linha in onibus:\n",
    "    for ponto in linha['geometry']['coordinates']:\n",
    "#         print(ponto)\n",
    "        x, y = ponto\n",
    "        \n",
    "#         print(x, y)\n",
    "\n",
    "        t = AABB([(x, x), (y, y)])\n",
    "\n",
    "        if(tree.does_overlap(t)):\n",
    "            listaOnibus.append(linha)\n",
    "            print('oi')\n",
    "            break\n",
    "\n",
    "# print(i)"
   ]
  },
  {
   "cell_type": "code",
   "execution_count": 77,
   "metadata": {},
   "outputs": [
    {
     "data": {
      "text/plain": [
       "[]"
      ]
     },
     "execution_count": 77,
     "metadata": {},
     "output_type": "execute_result"
    }
   ],
   "source": [
    "listaOnibus"
   ]
  },
  {
   "cell_type": "code",
   "execution_count": null,
   "metadata": {},
   "outputs": [],
   "source": []
  }
 ],
 "metadata": {
  "kernelspec": {
   "display_name": "Python 3",
   "language": "python",
   "name": "python3"
  },
  "language_info": {
   "codemirror_mode": {
    "name": "ipython",
    "version": 3
   },
   "file_extension": ".py",
   "mimetype": "text/x-python",
   "name": "python",
   "nbconvert_exporter": "python",
   "pygments_lexer": "ipython3",
   "version": "3.7.5"
  }
 },
 "nbformat": 4,
 "nbformat_minor": 2
}
