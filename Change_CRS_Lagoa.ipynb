{
 "cells": [
  {
   "cell_type": "code",
   "execution_count": 1,
   "metadata": {},
   "outputs": [],
   "source": [
    "import pandas as pd\n",
    "from pyproj import Proj, transform\n",
    "import fiona\n",
    "from fiona.crs import from_epsg\n",
    "import logging\n",
    "import sys\n",
    "\n",
    "\n",
    "# outProj = Proj(init='epsg:3857')\n",
    "# inProj = Proj(init='epsg:4326') # It is equal to WSG"
   ]
  },
  {
   "cell_type": "code",
   "execution_count": 8,
   "metadata": {},
   "outputs": [
    {
     "name": "stdout",
     "output_type": "stream",
     "text": [
      "{'properties': OrderedDict([('id', 'float:19'), ('Classes', 'str:254'), ('Perimetro_', 'float:33.15'), ('Area_Hecta', 'float:33.15')]), 'geometry': 'Polygon'}\n"
     ]
    }
   ],
   "source": [
    "shape = fiona.open(\"Mapas_sim/env/amb_app_lagoas_25k_inea.shp\")\n",
    "print (shape.schema)\n"
   ]
  },
  {
   "cell_type": "code",
   "execution_count": 11,
   "metadata": {},
   "outputs": [
    {
     "name": "stdout",
     "output_type": "stream",
     "text": [
      "0\n",
      "1\n",
      "2\n",
      "3\n",
      "4\n",
      "5\n",
      "6\n",
      "7\n",
      "8\n",
      "9\n",
      "10\n",
      "11\n",
      "12\n",
      "13\n",
      "14\n",
      "15\n",
      "16\n",
      "17\n"
     ]
    }
   ],
   "source": [
    "for i in shape:\n",
    "    print(i['id'])"
   ]
  },
  {
   "cell_type": "code",
   "execution_count": 13,
   "metadata": {},
   "outputs": [
    {
     "name": "stdout",
     "output_type": "stream",
     "text": [
      "Polygon\n"
     ]
    }
   ],
   "source": [
    "print(shape[6]['geometry']['type'])"
   ]
  },
  {
   "cell_type": "code",
   "execution_count": 14,
   "metadata": {},
   "outputs": [
    {
     "name": "stderr",
     "output_type": "stream",
     "text": [
      "/opt/anaconda/lib/python3.7/site-packages/pyproj/crs.py:77: FutureWarning: '+init=<authority>:<code>' syntax is deprecated. '<authority>:<code>' is the preferred initialization method.\n",
      "  return _prepare_from_string(\" \".join(pjargs))\n",
      "/opt/anaconda/lib/python3.7/site-packages/pyproj/crs.py:77: FutureWarning: '+init=<authority>:<code>' syntax is deprecated. '<authority>:<code>' is the preferred initialization method.\n",
      "  return _prepare_from_string(\" \".join(pjargs))\n"
     ]
    }
   ],
   "source": [
    "# Transformar escala lag, long em Metros no globo achatado\n",
    "\n",
    "# salvando o esquema e pegando a projecao de entrada\n",
    "sink_schema = shape.schema.copy()\n",
    "p_in = Proj(shape.crs)\n",
    "\n",
    "# definindo um novo shape de saida, no mesmo local do shape atual com a projeção mudada\n",
    "with fiona.open(\n",
    "        'lagoa_metros.shp', 'w',\n",
    "        crs=from_epsg(3857),\n",
    "        driver=shape.driver,\n",
    "        schema=sink_schema,\n",
    "        ) as sink:\n",
    "\n",
    "    p_out = Proj(sink.crs)\n",
    "\n",
    "    # fazendo apenas para o Chico Mendes (esse arquivo tem Polygon e MultiPolygon)\n",
    "    # nesse caso, se fizesse para o arquivo todo, nao seria contemplado alguns shapes\n",
    "    f = shape[6]\n",
    "\n",
    "    try:\n",
    "        # verifica se eh da estrutura poligono\n",
    "        assert f['geometry']['type'] == \"Polygon\"\n",
    "        new_coords = []\n",
    "        # para todas as coordenadas do poligono\n",
    "        for ring in f['geometry']['coordinates']:\n",
    "            x2, y2 = transform(p_in, p_out, *zip(*ring)) #transforma\n",
    "            new_coords.append(zip(x2, y2)) # salva a nova lista de coordenadas\n",
    "        f['geometry']['coordinates'] = new_coords\n",
    "        sink.write(f)\n",
    "\n",
    "    except Exception:\n",
    "        # Writing uncleanable features to a different shapefile\n",
    "        # is another option.\n",
    "        logging.exception(\"Error transforming feature %s:\", f['id'])"
   ]
  }
 ],
 "metadata": {
  "kernelspec": {
   "display_name": "Python 3",
   "language": "python",
   "name": "python3"
  },
  "language_info": {
   "codemirror_mode": {
    "name": "ipython",
    "version": 3
   },
   "file_extension": ".py",
   "mimetype": "text/x-python",
   "name": "python",
   "nbconvert_exporter": "python",
   "pygments_lexer": "ipython3",
   "version": "3.7.5"
  }
 },
 "nbformat": 4,
 "nbformat_minor": 2
}
