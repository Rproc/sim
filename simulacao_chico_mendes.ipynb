{
 "cells": [
  {
   "cell_type": "code",
   "execution_count": 1,
   "metadata": {},
   "outputs": [],
   "source": [
    "import pandas as pd\n",
    "from pyproj import Proj, transform\n",
    "import fiona\n",
    "from fiona.crs import from_epsg\n",
    "import logging\n",
    "import sys\n",
    "from aabbtree import AABB, AABBTree\n",
    "import math\n",
    "from scipy.spatial import distance\n",
    "import copy\n",
    "from shapely.geometry import mapping, Polygon\n",
    "import random\n",
    "\n",
    "# outProj = Proj(init='epsg:3857')\n",
    "# inProj = Proj(init='epsg:4326') # It is equal to WSG"
   ]
  },
  {
   "cell_type": "code",
   "execution_count": 2,
   "metadata": {},
   "outputs": [],
   "source": [
    "# Parametros\n",
    "\n",
    "espacamento = 50\n",
    "n = 20 # multiplicador da area de amortização"
   ]
  },
  {
   "cell_type": "code",
   "execution_count": 3,
   "metadata": {},
   "outputs": [
    {
     "name": "stdout",
     "output_type": "stream",
     "text": [
      "{'properties': OrderedDict([('id', 'float:19'), ('Unidade_de', 'str:254'), ('Categoria', 'str:254'), ('Ano_de_Cri', 'int:9'), ('Zoneamento', 'str:254'), ('Área_hecta', 'float:33.15'), ('Jurisdição', 'str:254'), ('Plano_de_M', 'str:254')]), 'geometry': 'Polygon'}\n"
     ]
    }
   ],
   "source": [
    "# Carregar base em metros da area de preservação do chico mendes\n",
    "chico_mendes = fiona.open(\"chico_mendes/area_chico_mendes.shp\")\n",
    "print (chico_mendes.schema)"
   ]
  },
  {
   "cell_type": "code",
   "execution_count": 4,
   "metadata": {},
   "outputs": [],
   "source": [
    "listaCoordenadas = chico_mendes[0]['geometry']['coordinates']"
   ]
  },
  {
   "cell_type": "code",
   "execution_count": 5,
   "metadata": {},
   "outputs": [],
   "source": [
    "# retirar ponto x máximo e ponto x mínimo, referente a projeção 3857\n",
    "# analogo para o ymin e ymax\n",
    "\n",
    "xmin = 999999999999999\n",
    "xmax = -99999999999999\n",
    "ymax = xmax\n",
    "ymin = xmin\n",
    "for elem in listaCoordenadas[0]:\n",
    "    \n",
    "    if elem[0] > xmax:\n",
    "        xmax = elem[0]\n",
    "    elif elem[0] < xmin:\n",
    "        xmin = elem[0]\n",
    "        \n",
    "    if elem[1] > ymax:\n",
    "        ymax = elem[1]\n",
    "    elif elem[1] < ymin:\n",
    "        ymin = elem[1]"
   ]
  },
  {
   "cell_type": "code",
   "execution_count": 6,
   "metadata": {},
   "outputs": [
    {
     "name": "stdout",
     "output_type": "stream",
     "text": [
      "X Max:  -4838636.088731658 \n",
      "X Min:  -4839587.213704263\n",
      "YMax:  -2634641.478797528 \n",
      "Y Min:  -2635360.089792147\n"
     ]
    }
   ],
   "source": [
    "print('X Max: ', xmax, '\\nX Min: ', xmin)\n",
    "print('YMax: ', ymax, '\\nY Min: ', ymin)"
   ]
  },
  {
   "cell_type": "code",
   "execution_count": 7,
   "metadata": {},
   "outputs": [],
   "source": [
    "yminAmortizado = ymin + (-n*espacamento) \n",
    "ymaxAmortizado = ymax + (n*espacamento) \n",
    "xminAmortizado = xmin + (-n*espacamento) \n",
    "xmaxAmortizado = xmax + (n*espacamento)"
   ]
  },
  {
   "cell_type": "code",
   "execution_count": 8,
   "metadata": {},
   "outputs": [
    {
     "name": "stdout",
     "output_type": "stream",
     "text": [
      "X Max:  -4837636.088731658 \n",
      "X Min:  -4840587.213704263\n",
      "YMax:  -2633641.478797528 \n",
      "Y Min:  -2636360.089792147\n"
     ]
    }
   ],
   "source": [
    "print('X Max: ', xmaxAmortizado, '\\nX Min: ', xminAmortizado)\n",
    "print('YMax: ', ymaxAmortizado, '\\nY Min: ', yminAmortizado)"
   ]
  },
  {
   "cell_type": "code",
   "execution_count": 9,
   "metadata": {},
   "outputs": [],
   "source": [
    "tree = AABBTree()\n",
    "\n",
    "treeEstudo = AABBTree()\n",
    "# (xmin, xmax), (ymin, ymax)\n",
    "area_estudo = AABB([(xmin, xmax), (ymin, ymax)])\n",
    "\n",
    "area_amortizada = AABB([(xminAmortizado, xmaxAmortizado), (yminAmortizado, ymaxAmortizado)])\n"
   ]
  },
  {
   "cell_type": "code",
   "execution_count": 10,
   "metadata": {},
   "outputs": [],
   "source": [
    "# aabb2 = AABB([(10,15), (10,15)])\n",
    "\n",
    "tree.add(area_amortizada, 'envol')\n",
    "treeEstudo.add(area_estudo)\n",
    "a = tree.does_overlap(area_estudo)\n",
    "\n",
    "# print(a)\n"
   ]
  },
  {
   "cell_type": "code",
   "execution_count": 11,
   "metadata": {},
   "outputs": [
    {
     "name": "stdout",
     "output_type": "stream",
     "text": [
      "{'properties': OrderedDict([('INEP', 'int:9'), ('Escola', 'str:254'), ('Rede', 'str:254'), ('Localizaçã', 'str:254'), ('Município', 'str:254'), ('Bairro', 'str:254'), ('Endereço', 'str:254'), ('Telefone', 'str:254'), ('Total_Matr', 'float:19'), ('Infantil', 'float:19'), ('Creche', 'float:19'), ('PreEscola', 'float:19'), ('Fundamenta', 'float:19'), ('Fundament0', 'float:19'), ('Fundament1', 'float:19'), ('Ensino_Med', 'float:19'), ('Profission', 'int:9'), ('EJA', 'int:9'), ('Especial', 'int:9'), ('Latitude', 'float:33.15'), ('Longitude', 'float:33.15')]), 'geometry': 'Point'}\n"
     ]
    }
   ],
   "source": [
    "escolas = fiona.open(\"Mapas_sim/shapes_sim_meters/escola_metros.shp\")\n",
    "print (escolas.schema)"
   ]
  },
  {
   "cell_type": "code",
   "execution_count": 12,
   "metadata": {},
   "outputs": [],
   "source": [
    "listaEscolas = []\n",
    "\n",
    "for escola in escolas:\n",
    "    x, y = escola['geometry']['coordinates']\n",
    "    \n",
    "    t = AABB([(x, x), (y, y)])\n",
    "    \n",
    "    if(tree.does_overlap(t)):\n",
    "        listaEscolas.append(escola)\n",
    "    "
   ]
  },
  {
   "cell_type": "code",
   "execution_count": 13,
   "metadata": {},
   "outputs": [],
   "source": [
    "sink_schema = escolas.schema.copy()\n",
    "with fiona.open(\n",
    "        'escola_estudo.shp', 'w',\n",
    "        crs=from_epsg(3857),\n",
    "        driver=escolas.driver,\n",
    "        schema=sink_schema,\n",
    "        ) as sink:\n",
    "    \n",
    "    for e in listaEscolas:\n",
    "        sink.write(e)"
   ]
  },
  {
   "cell_type": "code",
   "execution_count": 14,
   "metadata": {},
   "outputs": [
    {
     "name": "stdout",
     "output_type": "stream",
     "text": [
      "{'properties': OrderedDict([('Município', 'str:254'), ('Código_CNE', 'str:254'), ('Razão_Soci', 'str:254'), ('Estabeleci', 'str:254'), ('CNPJ_Mante', 'str:254'), ('Endereço', 'str:254'), ('Telefone', 'str:254'), ('Email_ou_F', 'str:254'), ('Tipo', 'str:254'), ('Gestão', 'str:254')]), 'geometry': 'Point'}\n"
     ]
    }
   ],
   "source": [
    "saude = fiona.open(\"Mapas_sim/shapes_sim_meters/saude_metros.shp\")\n",
    "print (saude.schema)"
   ]
  },
  {
   "cell_type": "code",
   "execution_count": 15,
   "metadata": {},
   "outputs": [],
   "source": [
    "listaSaude = []\n",
    "\n",
    "for unidade in saude:\n",
    "    x, y = unidade['geometry']['coordinates']\n",
    "    \n",
    "    t = AABB([(x, x), (y, y)])\n",
    "    \n",
    "    if(tree.does_overlap(t)):\n",
    "        listaSaude.append(unidade)\n",
    "    "
   ]
  },
  {
   "cell_type": "code",
   "execution_count": 16,
   "metadata": {},
   "outputs": [],
   "source": [
    "sink_schema = saude.schema.copy()\n",
    "with fiona.open(\n",
    "        'saude_estudo.shp', 'w',\n",
    "        crs=from_epsg(3857),\n",
    "        driver=saude.driver,\n",
    "        schema=sink_schema,\n",
    "        ) as sink:\n",
    "    \n",
    "    for e in listaSaude:\n",
    "        sink.write(e)"
   ]
  },
  {
   "cell_type": "code",
   "execution_count": 17,
   "metadata": {},
   "outputs": [
    {
     "name": "stdout",
     "output_type": "stream",
     "text": [
      "{'properties': OrderedDict([('Nome_da_Li', 'str:254'), ('Número_da_', 'str:254'), ('Rota', 'str:254')]), 'geometry': 'MultiPoint'}\n"
     ]
    }
   ],
   "source": [
    "onibus = fiona.open(\"Mapas_sim/shapes_sim_meters/ponto_onibus_metros.shp\")\n",
    "print (onibus.schema)"
   ]
  },
  {
   "cell_type": "code",
   "execution_count": 18,
   "metadata": {},
   "outputs": [],
   "source": [
    "listaOnibus = []\n",
    "i = 0\n",
    "for linha in onibus:\n",
    "    for ponto in linha['geometry']['coordinates']:\n",
    "\n",
    "        x, y = ponto\n",
    "        t = AABB([(x, x), (y, y)])\n",
    "\n",
    "        if(tree.does_overlap(t)):\n",
    "            listaOnibus.append(linha)\n",
    "            break\n"
   ]
  },
  {
   "cell_type": "code",
   "execution_count": 19,
   "metadata": {},
   "outputs": [],
   "source": [
    "sink_schema = onibus.schema.copy()\n",
    "with fiona.open(\n",
    "        'onibus_estudo.shp', 'w',\n",
    "        crs=from_epsg(3857),\n",
    "        driver=onibus.driver,\n",
    "        schema=sink_schema,\n",
    "        ) as sink:\n",
    "    \n",
    "    for e in listaOnibus:\n",
    "        sink.write(e)"
   ]
  },
  {
   "cell_type": "code",
   "execution_count": 20,
   "metadata": {},
   "outputs": [
    {
     "data": {
      "text/plain": [
       "-4840587.213704263"
      ]
     },
     "execution_count": 20,
     "metadata": {},
     "output_type": "execute_result"
    }
   ],
   "source": [
    "# xmin com ymax (0,0)\n",
    "xminAmortizado"
   ]
  },
  {
   "cell_type": "code",
   "execution_count": 21,
   "metadata": {},
   "outputs": [
    {
     "data": {
      "text/plain": [
       "2951.1249726051465"
      ]
     },
     "execution_count": 21,
     "metadata": {},
     "output_type": "execute_result"
    }
   ],
   "source": [
    "xmaxAmortizado - xminAmortizado"
   ]
  },
  {
   "cell_type": "code",
   "execution_count": 22,
   "metadata": {},
   "outputs": [
    {
     "data": {
      "text/plain": [
       "55"
      ]
     },
     "execution_count": 22,
     "metadata": {},
     "output_type": "execute_result"
    }
   ],
   "source": [
    "math.ceil( (ymaxAmortizado - yminAmortizado)/espacamento )"
   ]
  },
  {
   "cell_type": "code",
   "execution_count": 23,
   "metadata": {},
   "outputs": [
    {
     "data": {
      "text/plain": [
       "2718.6109946188517"
      ]
     },
     "execution_count": 23,
     "metadata": {},
     "output_type": "execute_result"
    }
   ],
   "source": [
    "ymaxAmortizado - yminAmortizado"
   ]
  },
  {
   "cell_type": "code",
   "execution_count": 24,
   "metadata": {},
   "outputs": [],
   "source": [
    "escolas = fiona.open(\"chico_mendes/escola_estudo.shp\")\n",
    "saude = fiona.open(\"chico_mendes/saude_estudo.shp\")\n",
    "onibus = fiona.open(\"chico_mendes/onibus_estudo.shp\")\n",
    "lagoa = fiona.open(\"chico_mendes/lagoa_metros.shp\")\n",
    "chico_mendes = fiona.open(\"chico_mendes/area_chico_mendes.shp\")"
   ]
  },
  {
   "cell_type": "code",
   "execution_count": 25,
   "metadata": {},
   "outputs": [],
   "source": [
    "listaL = lagoa[0]['geometry']['coordinates']\n",
    "\n",
    "xminL = 999999999999999\n",
    "xmaxL = -99999999999999\n",
    "ymaxL = -99999999999999\n",
    "yminL = 999999999999999\n",
    "for elem in listaL[0]:\n",
    "    \n",
    "    if elem[0] > xmaxL:\n",
    "        xmaxL = elem[0]\n",
    "    elif elem[0] < xminL:\n",
    "        xminL = elem[0]\n",
    "        \n",
    "    if elem[1] > ymaxL:\n",
    "        ymaxL = elem[1]\n",
    "    elif elem[1] < yminL:\n",
    "        yminL = elem[1]"
   ]
  },
  {
   "cell_type": "code",
   "execution_count": 26,
   "metadata": {},
   "outputs": [
    {
     "name": "stdout",
     "output_type": "stream",
     "text": [
      "X Max:  -4838842.731881705 \n",
      "X Min:  -4839666.182415247\n",
      "YMax:  -2634802.978674988 \n",
      "Y Min:  -2635081.1750952885\n"
     ]
    }
   ],
   "source": [
    "print('X Max: ', xmaxL, '\\nX Min: ', xminL)\n",
    "print('YMax: ', ymaxL, '\\nY Min: ', yminL)\n",
    "# X Max:  -4838636.088731658 \n",
    "# X Min:  -4839587.213704263\n",
    "# YMax:  -2634641.478797528 \n",
    "# Y Min:  -2635360.089792147"
   ]
  },
  {
   "cell_type": "code",
   "execution_count": 30,
   "metadata": {},
   "outputs": [],
   "source": [
    "nextX = espacamento\n",
    "nextY = -espacamento\n",
    "\n",
    "startX = xminAmortizado\n",
    "startY = ymaxAmortizado\n",
    "nowX = startX + nextX\n",
    "nowY = startY + nextY\n",
    "\n",
    "var = 0.000000001\n",
    "\n",
    "idString = 'id'\n",
    "xString = 'local_x'\n",
    "yString = 'local_y'\n",
    "escolaString = 'escola'\n",
    "onibusString = 'linha_onibus'\n",
    "saudeString = 'unidade_saude'\n",
    "chicoString = 'area_parque_cm'\n",
    "lagoaString = 'area_lagoa_cm'\n",
    "ocupaString = 'ocupado'\n",
    "\n",
    "dict_cm = {}\n",
    "\n",
    "id_ = 0\n",
    "for i in range(0, math.ceil( (xmaxAmortizado - xminAmortizado)/espacamento )):\n",
    "    for j in range(0, math.ceil( (ymaxAmortizado - yminAmortizado)/espacamento )):\n",
    "        \n",
    "        cm = 0\n",
    "        l_cm = 0\n",
    "        ocupa = 1\n",
    "        listaOnibus = []\n",
    "        listaEscolas = []\n",
    "        listaSaude = []\n",
    "        \n",
    "        tree = AABBTree()\n",
    "\n",
    "        # (xmin, xmax), (ymin, ymax)\n",
    "        area_estudo = AABB([(startX, nowX), (nowY, startY)])\n",
    "        tree.add(area_estudo, 'envol')\n",
    "        \n",
    "        \n",
    "        t = AABB([(xminL, xmaxL), (yminL, ymaxL)])\n",
    "\n",
    "        if(tree.does_overlap(t)):\n",
    "            l_cm = 1\n",
    "            ocupa = 0\n",
    "        \n",
    "        # PARQUE\n",
    "        t = AABB([(xmin, xmax), (ymin, ymax)])\n",
    "\n",
    "        if(tree.does_overlap(t)):\n",
    "            cm = 1\n",
    "            ocupa = 0   \n",
    "            \n",
    "        for linha in onibus:\n",
    "            for ponto in linha['geometry']['coordinates']:\n",
    "                x, y = ponto\n",
    "                t = AABB([(x, x), (y, y)])\n",
    "                if(tree.does_overlap(t)):\n",
    "                    listaOnibus.append(linha)\n",
    "                    ocupa = 1\n",
    "                    break\n",
    "        \n",
    "        for unidade in saude:\n",
    "            x, y = unidade['geometry']['coordinates']\n",
    "\n",
    "            t = AABB([(x, x), (y, y)])\n",
    "\n",
    "            if(tree.does_overlap(t)):\n",
    "                ocupa = 1\n",
    "                listaSaude.append(unidade)\n",
    "        \n",
    "        \n",
    "        for escola in escolas:\n",
    "            x, y = escola['geometry']['coordinates']\n",
    "\n",
    "            t = AABB([(x, x), (y, y)])\n",
    "\n",
    "            if(tree.does_overlap(t)):\n",
    "                listaEscolas.append(escola)\n",
    "                ocupa = 1\n",
    "        \n",
    "        \n",
    "        dict_cm[id_] = {idString : id_, 'i': i, 'j': j, xString : startX, yString : startY, escolaString : listaEscolas, \\\n",
    "                     saudeString : listaSaude, onibusString : listaOnibus, chicoString : cm, lagoaString : l_cm, ocupaString : ocupa }\n",
    "        \n",
    "        \n",
    "        id_ += 1\n",
    "        startX = nowX + var\n",
    "        nowX += nextX\n",
    "        \n",
    "    startX = xminAmortizado\n",
    "    nowX = startX + nextX\n",
    "    startY = nowY - var\n",
    "    nowY += nextY\n",
    "        \n",
    "        "
   ]
  },
  {
   "cell_type": "code",
   "execution_count": 27,
   "metadata": {},
   "outputs": [],
   "source": [
    "def neighborhood(xmaxAmortizado, xminAmortizado, ymaxAmortizado, \\\n",
    "yminAmortizado, espacamento, dict_cm, i, j, id_, neigh, escolas, saude, onibus):\n",
    "\n",
    "    col = math.ceil( (xmaxAmortizado - xminAmortizado)/espacamento )\n",
    "    row = math.ceil( (ymaxAmortizado - yminAmortizado)/espacamento )\n",
    "    cell = []\n",
    "\n",
    "    if neigh == 'moore':\n",
    "\n",
    "        ocupado = 0\n",
    "        num_escolas = 0\n",
    "        linhasOnibus = 0\n",
    "        postoSaude = 0\n",
    "        cell.append((i-1)*row+j) # vizinho de cima\n",
    "        cell.append((i-1)*row+(j+1)) # viz diagonal superior direito\n",
    "        cell.append(id_ + 1) # vizinho da direita\n",
    "        cell.append((i+1)*row + (j+1)) # viz diagonal inferior direito\n",
    "        cell.append((i+1)*row + j) # viz embaixo\n",
    "        cell.append((i+1)*row + (j+1)) # viz diagonal inferior esquerdo\n",
    "        cell.append(id_ - 1) # viz esquerdo\n",
    "        cell.append((i-1)*row + (j-1)) # viz diagonal superior esquerdo\n",
    "\n",
    "        for c in cell:\n",
    "            if dict_cm[c]['ocupado']:\n",
    "                ocupado += dict_cm[c]['ocupado']\n",
    "            num_escolas += len(dict_cm[c]['escola'])\n",
    "            linhasOnibus += len(dict_cm[c]['linha_onibus'])\n",
    "            postoSaude += len(dict_cm[c]['unidade_saude'])\n",
    "        \n",
    "        ocupado = ocupado/len(cell)\n",
    "        num_escolas = num_escolas/len(escolas)\n",
    "        linhasOnibus = linhasOnibus/len(onibus)\n",
    "        postoSaude = postoSaude/len(saude)\n",
    "\n",
    "        return ocupado, num_escolas,linhasOnibus, postoSaude"
   ]
  },
  {
   "cell_type": "code",
   "execution_count": 28,
   "metadata": {},
   "outputs": [],
   "source": [
    "def dista(xmaxAmortizado, xminAmortizado, ymaxAmortizado, \\\n",
    "yminAmortizado, espacamento, dict_cm, i, j, id_, dist):\n",
    "\n",
    "    col = math.ceil( (xmaxAmortizado - xminAmortizado)/espacamento )\n",
    "    row = math.ceil( (ymaxAmortizado - yminAmortizado)/espacamento )\n",
    "\n",
    "    listaEsc = []\n",
    "    listaOni = []\n",
    "    listaSau = []\n",
    "    for key in dict_cm:\n",
    "        if len(dict_cm[key]['escola']) > 0:\n",
    "            listaEsc.append(key)\n",
    "        if len(dict_cm[key]['linha_onibus']) > 0:\n",
    "            listaOni.append(key)\n",
    "        if len(dict_cm[key]['unidade_saude']) > 0:\n",
    "            listaSau.append(key)\n",
    "\n",
    "\n",
    "    le = []\n",
    "    lo = []\n",
    "    ls = []\n",
    "    if dist == 'manhattan':\n",
    "\n",
    "        for e in listaEsc:\n",
    "            x = int(e/row)\n",
    "            y = e % row\n",
    "            d = distance.cityblock([i, j], [x, y])\n",
    "            le.append(d)\n",
    "\n",
    "        for o in listaOni:\n",
    "            x = int(o/row)\n",
    "            y = o % row\n",
    "            d = distance.cityblock([i, j], [x, y])\n",
    "            lo.append(d)\n",
    "\n",
    "        for s in listaSau:\n",
    "            x = int(s/row)\n",
    "            y = s % row\n",
    "            d = distance.cityblock([i, j], [x, y])\n",
    "            ls.append(d)\n",
    "\n",
    "        distE = [l / max(le) for l in le]\n",
    "        distO = [l / max(lo) for l in lo]\n",
    "        distS = [l / max(ls) for l in ls]\n",
    "\n",
    "        return min(distE), min(distO), min(distS)\n",
    "\n"
   ]
  },
  {
   "cell_type": "code",
   "execution_count": 31,
   "metadata": {},
   "outputs": [
    {
     "name": "stdout",
     "output_type": "stream",
     "text": [
      "pq ocupado\n",
      "pq ocupado\n"
     ]
    }
   ],
   "source": [
    "for key in dict_cm:\n",
    "    if dict_cm[key]['area_parque_cm']:\n",
    "        if dict_cm[key]['ocupado']:\n",
    "            print('pq ocupado')"
   ]
  },
  {
   "cell_type": "code",
   "execution_count": 32,
   "metadata": {},
   "outputs": [],
   "source": [
    "# i = 0\n",
    "# lagssads = 0\n",
    "# for key in dict_cm:\n",
    "#     if dict_cm[key]['area_parque_cm']:\n",
    "#         print(dict_cm[key]['ocupado'])\n",
    "#         i+=1\n",
    "#     if dict_cm[key]['area_lagoa_cm']:\n",
    "#         lagssads += 1"
   ]
  },
  {
   "cell_type": "code",
   "execution_count": 33,
   "metadata": {},
   "outputs": [],
   "source": [
    "# print(i, lagssads)"
   ]
  },
  {
   "cell_type": "code",
   "execution_count": 34,
   "metadata": {},
   "outputs": [],
   "source": [
    "def create_area(nextX, nextY, yminAmortizado, ymaxAmortizado,\\\n",
    "xmaxAmortizado, xminAmortizado, escolas, saude, onibus, lagoa, chico_mendes, \\\n",
    "espacamento, xmax, xmin, ymax, ymin):\n",
    "    listaL = lagoa[0]['geometry']['coordinates']\n",
    "    listaCoordenadas = chico_mendes[0]['geometry']['coordinates']\n",
    "    startX = xminAmortizado\n",
    "    startY = ymaxAmortizado\n",
    "    nowX = startX + nextX\n",
    "    nowY = startY + nextY\n",
    "\n",
    "    var = 0.000000001\n",
    "\n",
    "    idString = 'id'\n",
    "    xString = 'local_x'\n",
    "    yString = 'local_y'\n",
    "    escolaString = 'escola'\n",
    "    onibusString = 'linha_onibus'\n",
    "    saudeString = 'unidade_saude'\n",
    "    chicoString = 'area_parque_cm'\n",
    "    lagoaString = 'area_lagoa_cm'\n",
    "    ocupaString = 'ocupado'\n",
    "\n",
    "    listaL = lagoa[0]['geometry']['coordinates']\n",
    "\n",
    "    xminL = 999999999999999\n",
    "    xmaxL = -99999999999999\n",
    "    ymaxL = -99999999999999\n",
    "    yminL = 999999999999999\n",
    "    for elem in listaL[0]:\n",
    "\n",
    "        if elem[0] > xmaxL:\n",
    "            xmaxL = elem[0]\n",
    "        elif elem[0] < xminL:\n",
    "            xminL = elem[0]\n",
    "\n",
    "        if elem[1] > ymaxL:\n",
    "            ymaxL = elem[1]\n",
    "        elif elem[1] < yminL:\n",
    "            yminL = elem[1]\n",
    "\n",
    "    dict_cm = {}\n",
    "\n",
    "    id_ = 0\n",
    "    for i in range(0, math.ceil( (xmaxAmortizado - xminAmortizado)/espacamento )):\n",
    "        for j in range(0, math.ceil( (ymaxAmortizado - yminAmortizado)/espacamento )):\n",
    "\n",
    "            cm = 0\n",
    "            l_cm = 0\n",
    "            ocupa = 1\n",
    "            listaOnibus = []\n",
    "            listaEscolas = []\n",
    "            listaSaude = []\n",
    "\n",
    "            tree = AABBTree()\n",
    "\n",
    "            # (xmin, xmax), (ymin, ymax)\n",
    "            area_estudo = AABB([(startX, nowX), (nowY, startY)])\n",
    "            tree.add(area_estudo, 'envol')\n",
    "\n",
    "            #LAGOA\n",
    "            t = AABB([(xminL, xmaxL), (yminL, ymaxL)])\n",
    "            if(tree.does_overlap(t)):\n",
    "                l_cm = 1\n",
    "                ocupa = 0\n",
    "\n",
    "            #PARQUE\n",
    "            t = AABB([(xmin, xmax), (ymin, ymax)])\n",
    "            if(tree.does_overlap(t)):\n",
    "                cm = 1\n",
    "                ocupa = 0\n",
    "\n",
    "            for linha in onibus:\n",
    "                for ponto in linha['geometry']['coordinates']:\n",
    "                    x, y = ponto\n",
    "                    t = AABB([(x, x), (y, y)])\n",
    "                    if(tree.does_overlap(t)):\n",
    "                        listaOnibus.append(linha)\n",
    "                        ocupa = 1\n",
    "                        break\n",
    "\n",
    "            for unidade in saude:\n",
    "                x, y = unidade['geometry']['coordinates']\n",
    "\n",
    "                t = AABB([(x, x), (y, y)])\n",
    "\n",
    "                if(tree.does_overlap(t)):\n",
    "                    ocupa = 1\n",
    "                    listaSaude.append(unidade)\n",
    "\n",
    "\n",
    "            for escola in escolas:\n",
    "                x, y = escola['geometry']['coordinates']\n",
    "\n",
    "                t = AABB([(x, x), (y, y)])\n",
    "\n",
    "                if(tree.does_overlap(t)):\n",
    "                    listaEscolas.append(escola)\n",
    "                    ocupa = 1\n",
    "\n",
    "\n",
    "            dict_cm[id_] = {idString : id_, 'i': i, 'j': j, xString : startX, yString : startY, escolaString : listaEscolas, \\\n",
    "                         saudeString : listaSaude, onibusString : listaOnibus, chicoString : cm, lagoaString : l_cm, ocupaString : ocupa }\n",
    "\n",
    "\n",
    "            id_ += 1\n",
    "            startX = nowX + var\n",
    "            nowX += nextX\n",
    "\n",
    "        startX = xminAmortizado\n",
    "        nowX = startX + nextX\n",
    "        startY = nowY - var\n",
    "        nowY += nextY\n",
    "\n",
    "    return dict_cm\n"
   ]
  },
  {
   "cell_type": "code",
   "execution_count": 101,
   "metadata": {},
   "outputs": [],
   "source": [
    "def simulacao(neigh, dist, dict_temp, xmaxAmortizado, xminAmortizado, \\\n",
    "ymaxAmortizado, yminAmortizado, espacamento, escolas, saude, onibus, pesos, inercia, threshold):\n",
    "    serie_historica = []\n",
    "    fim = 1\n",
    "    neigh = neigh\n",
    "    dist = dist\n",
    "    d0 = copy.deepcopy(dict_temp)\n",
    "    serie_historica.append(d0)\n",
    "\n",
    "    space_to_occup = 0\n",
    "    occupied = 0\n",
    "    lag = 0\n",
    "    parq = 0\n",
    "\n",
    "    for key in d0:\n",
    "        if (d0[key]['area_parque_cm'] == 1) and (d0[key]['area_lagoa_cm'] == 0):\n",
    "            space_to_occup += 1\n",
    "        if d0[key]['area_lagoa_cm']:\n",
    "            lag += 1\n",
    "        if d0[key]['area_parque_cm']:\n",
    "            parq += 1\n",
    "\n",
    "    print('to: ', space_to_occup)\n",
    "\n",
    "    log = []\n",
    "    t = 0\n",
    "    while ((occupied < (space_to_occup-2)) and (t < 100)):\n",
    "#     for u in range(0, 10):\n",
    "        for key in dict_temp:\n",
    "            if (dict_temp[key]['area_parque_cm']):\n",
    "                i = dict_temp[key]['i']\n",
    "                j = dict_temp[key]['j']\n",
    "                id_ = dict_temp[key]['id']\n",
    "                ocupacao_per, escola_per, onibus_per, saude_per = neighborhood(xmaxAmortizado, xminAmortizado, ymaxAmortizado, \\\n",
    "                yminAmortizado, espacamento, dict_temp, i, j, id_, neigh, escolas, saude, onibus)\n",
    "                distEscola, distOnibus, distSaude = dista(xmaxAmortizado, xminAmortizado, ymaxAmortizado, \\\n",
    "                yminAmortizado, espacamento, dict_temp, i, j, id_, dist)\n",
    "\n",
    "                N = ocupacao_per*pesos[0]\n",
    "                S = (escola_per*pesos[1] + onibus_per*pesos[2] + saude_per*pesos[3])/3\n",
    "                D = (((1 - distEscola) + (1 - distOnibus) + (1 - distSaude)) / 3)*pesos[4]\n",
    "                I = inercia\n",
    "                P = 1\n",
    "                E = 1\n",
    "\n",
    "                if dict_temp[key]['area_lagoa_cm']:\n",
    "                    P = 0\n",
    "\n",
    "                funct = ((N + S + D - I))*P*E\n",
    "                if funct < 0.0:\n",
    "                    funct = 0.0\n",
    "#                 print(funct)\n",
    "                \n",
    "                \n",
    "                f = random.random()\n",
    "                if funct > f:\n",
    "                    if dict_temp[key]['ocupado'] == 0:\n",
    "#                         print('ocupei')\n",
    "                        dict_temp[key]['ocupado'] = 1\n",
    "                        occupied += 1\n",
    "\n",
    "#         d = copy.deepcopy(dict_temp)\n",
    "        serie_historica.append(copy.deepcopy(dict_temp))\n",
    "        log.append(['iteracao: ', t, ', ' 'space occ: ', occupied, '\\n'])\n",
    "\n",
    "        t+=1\n",
    "        print('iteracao: ', t, 'space occ: ', occupied)\n",
    "\n",
    "\n",
    "    print('final: ',occupied)\n",
    "\n",
    "    return serie_historica, dict_temp, t, log\n"
   ]
  },
  {
   "cell_type": "code",
   "execution_count": 91,
   "metadata": {},
   "outputs": [],
   "source": [
    "def write_ocupacao_por_tempo(serie, name, nextX, nextY):\n",
    "    # Here's an example Shapely geometry\n",
    "    # poly = Polygon(coordendas)\n",
    "\n",
    "    # Define a polygon feature geometry with one attribute\n",
    "    schema = {\n",
    "        'geometry': 'Polygon',\n",
    "        'properties': {'id': 'int'},\n",
    "    }\n",
    "    i = 0\n",
    "\n",
    "    for i in range(0, len(serie)):\n",
    "        name_ = name + '_' + str(i) + '.shp'\n",
    "        sink_list = []\n",
    "        for key in serie[i]:\n",
    "            if serie[i][key]['area_parque_cm']:\n",
    "                if serie[i][key]['ocupado']:\n",
    "                    sink_list.append(serie[i][key])\n",
    "                    # Write a new Shapefile\n",
    "\n",
    "        outpath = name_\n",
    "        with fiona.open(outpath, 'w', crs=from_epsg(3857), driver='ESRI Shapefile', schema=schema) as c:\n",
    "\n",
    "            for s in sink_list:\n",
    "                x = s['local_x']\n",
    "                y = s['local_y']\n",
    "\n",
    "                p = [ (x, y), (x+nextX, y), (x+nextX, y + nextY), (x, y+nextY)]\n",
    "                poly = Polygon(p)\n",
    "                c.write({\n",
    "                    'geometry': mapping(poly),\n",
    "                    'properties': {'id': s['id']},\n",
    "                })\n",
    "\n"
   ]
  },
  {
   "cell_type": "code",
   "execution_count": 97,
   "metadata": {},
   "outputs": [],
   "source": [
    "dict_cm = create_area(nextX, nextY, yminAmortizado, ymaxAmortizado,\\\n",
    "xmaxAmortizado, xminAmortizado, escolas, saude, onibus, lagoa, chico_mendes, \\\n",
    "espacamento, xmax, xmin, ymax, ymin)"
   ]
  },
  {
   "cell_type": "code",
   "execution_count": 98,
   "metadata": {},
   "outputs": [],
   "source": [
    "aurelio = copy.deepcopy(dict_cm)\n"
   ]
  },
  {
   "cell_type": "code",
   "execution_count": 99,
   "metadata": {},
   "outputs": [],
   "source": [
    "neigh = 'moore'\n",
    "dist = 'manhattan'\n",
    "# vizinhança, escola, pontos de onibus, saude, distancia\n",
    "pesos = [0.4, 0.3, 0.2, 0.1, 0.9]\n",
    "threshold = 0.10\n",
    "inercia = 0.65"
   ]
  },
  {
   "cell_type": "code",
   "execution_count": 102,
   "metadata": {},
   "outputs": [
    {
     "name": "stdout",
     "output_type": "stream",
     "text": [
      "to:  240\n",
      "iteracao:  1 space occ:  4\n",
      "iteracao:  2 space occ:  15\n",
      "iteracao:  3 space occ:  19\n",
      "iteracao:  4 space occ:  24\n",
      "iteracao:  5 space occ:  29\n",
      "iteracao:  6 space occ:  31\n",
      "iteracao:  7 space occ:  35\n",
      "iteracao:  8 space occ:  38\n",
      "iteracao:  9 space occ:  45\n",
      "iteracao:  10 space occ:  47\n",
      "iteracao:  11 space occ:  52\n",
      "iteracao:  12 space occ:  58\n",
      "iteracao:  13 space occ:  60\n",
      "iteracao:  14 space occ:  67\n",
      "iteracao:  15 space occ:  73\n",
      "iteracao:  16 space occ:  77\n",
      "iteracao:  17 space occ:  83\n",
      "iteracao:  18 space occ:  89\n",
      "iteracao:  19 space occ:  93\n",
      "iteracao:  20 space occ:  97\n",
      "iteracao:  21 space occ:  98\n",
      "iteracao:  22 space occ:  101\n",
      "iteracao:  23 space occ:  105\n",
      "iteracao:  24 space occ:  109\n",
      "iteracao:  25 space occ:  112\n",
      "iteracao:  26 space occ:  115\n",
      "iteracao:  27 space occ:  119\n",
      "iteracao:  28 space occ:  122\n",
      "iteracao:  29 space occ:  124\n",
      "iteracao:  30 space occ:  129\n",
      "iteracao:  31 space occ:  130\n",
      "iteracao:  32 space occ:  133\n",
      "iteracao:  33 space occ:  139\n",
      "iteracao:  34 space occ:  140\n",
      "iteracao:  35 space occ:  143\n",
      "iteracao:  36 space occ:  148\n",
      "iteracao:  37 space occ:  150\n",
      "iteracao:  38 space occ:  152\n",
      "iteracao:  39 space occ:  154\n",
      "iteracao:  40 space occ:  156\n",
      "iteracao:  41 space occ:  158\n",
      "iteracao:  42 space occ:  158\n",
      "iteracao:  43 space occ:  159\n",
      "iteracao:  44 space occ:  160\n",
      "iteracao:  45 space occ:  162\n",
      "iteracao:  46 space occ:  162\n",
      "iteracao:  47 space occ:  163\n",
      "iteracao:  48 space occ:  164\n",
      "iteracao:  49 space occ:  164\n",
      "iteracao:  50 space occ:  166\n",
      "iteracao:  51 space occ:  167\n",
      "iteracao:  52 space occ:  167\n",
      "iteracao:  53 space occ:  168\n",
      "iteracao:  54 space occ:  169\n",
      "iteracao:  55 space occ:  170\n",
      "iteracao:  56 space occ:  171\n",
      "iteracao:  57 space occ:  174\n",
      "iteracao:  58 space occ:  174\n",
      "iteracao:  59 space occ:  177\n",
      "iteracao:  60 space occ:  178\n",
      "iteracao:  61 space occ:  178\n",
      "iteracao:  62 space occ:  179\n",
      "iteracao:  63 space occ:  179\n",
      "iteracao:  64 space occ:  181\n",
      "iteracao:  65 space occ:  181\n",
      "iteracao:  66 space occ:  183\n",
      "iteracao:  67 space occ:  184\n",
      "iteracao:  68 space occ:  186\n",
      "iteracao:  69 space occ:  186\n",
      "iteracao:  70 space occ:  186\n",
      "iteracao:  71 space occ:  187\n",
      "iteracao:  72 space occ:  187\n",
      "iteracao:  73 space occ:  187\n",
      "iteracao:  74 space occ:  187\n",
      "iteracao:  75 space occ:  190\n",
      "iteracao:  76 space occ:  192\n",
      "iteracao:  77 space occ:  192\n",
      "iteracao:  78 space occ:  192\n",
      "iteracao:  79 space occ:  193\n",
      "iteracao:  80 space occ:  193\n",
      "iteracao:  81 space occ:  194\n",
      "iteracao:  82 space occ:  194\n",
      "iteracao:  83 space occ:  194\n",
      "iteracao:  84 space occ:  196\n",
      "iteracao:  85 space occ:  197\n",
      "iteracao:  86 space occ:  197\n",
      "iteracao:  87 space occ:  198\n",
      "iteracao:  88 space occ:  200\n",
      "iteracao:  89 space occ:  200\n",
      "iteracao:  90 space occ:  200\n",
      "iteracao:  91 space occ:  200\n",
      "iteracao:  92 space occ:  203\n",
      "iteracao:  93 space occ:  203\n",
      "iteracao:  94 space occ:  203\n",
      "iteracao:  95 space occ:  204\n",
      "iteracao:  96 space occ:  204\n",
      "iteracao:  97 space occ:  204\n",
      "iteracao:  98 space occ:  205\n",
      "iteracao:  99 space occ:  205\n",
      "iteracao:  100 space occ:  206\n",
      "final:  206\n"
     ]
    }
   ],
   "source": [
    "serie, dict_cm, tempo, log = simulacao(neigh, dist, aurelio, xmaxAmortizado, xminAmortizado, ymaxAmortizado, \\\n",
    "yminAmortizado, espacamento, escolas, saude, onibus, pesos, inercia, threshold )"
   ]
  },
  {
   "cell_type": "code",
   "execution_count": 103,
   "metadata": {},
   "outputs": [],
   "source": [
    "write_ocupacao_por_tempo(serie, 'teste', nextX, nextY)\n"
   ]
  },
  {
   "cell_type": "code",
   "execution_count": null,
   "metadata": {},
   "outputs": [],
   "source": [
    "for key in dict_cm:\n",
    "    if dict_cm[key]['area_parque_cm']:\n",
    "        print(dict_cm[key]['ocupado'])"
   ]
  },
  {
   "cell_type": "code",
   "execution_count": null,
   "metadata": {},
   "outputs": [],
   "source": [
    "def debug_(serie, name, nextX, nextY):\n",
    "    # Here's an example Shapely geometry\n",
    "    # poly = Polygon(coordendas)\n",
    "\n",
    "    # Define a polygon feature geometry with one attribute\n",
    "    schema = {\n",
    "        'geometry': 'Polygon',\n",
    "        'properties': {'id': 'int'},\n",
    "    }\n",
    "    i = 0\n",
    "#     path = 'mnt/hdd/Personal/Documentos/MSc/sim/ouput/'\n",
    "#     path = 'home/none/Downloads/nath/'\n",
    "#     for i in range(0, len(serie)):\n",
    "    name_ = name + '_' + str(i) + '.shp'\n",
    "    sink_list = []\n",
    "    for key in serie:\n",
    "        if serie[key]['ocupado']:\n",
    "#                 if serie[i][key]['ocupado']:\n",
    "            sink_list.append(serie[key])\n",
    "            # Write a new Shapefile\n",
    "        \n",
    "    outpath = name_\n",
    "    with fiona.open(outpath, 'w', crs=from_epsg(3857), driver='ESRI Shapefile', schema=schema) as c:\n",
    "\n",
    "        for s in sink_list:\n",
    "            x = s['local_x']\n",
    "            y = s['local_y']\n",
    "\n",
    "            p = [ (x, y), (x+nextX, y), (x+nextX, y + nextY), (x, y+nextY)]\n",
    "            poly = Polygon(p)\n",
    "            c.write({\n",
    "                'geometry': mapping(poly),\n",
    "                'properties': {'id': s['id']},\n",
    "            })\n",
    "\n",
    "\n"
   ]
  },
  {
   "cell_type": "code",
   "execution_count": null,
   "metadata": {},
   "outputs": [],
   "source": [
    "debug_(aurelio, 'estado_inicial', nextX, nextY)"
   ]
  },
  {
   "cell_type": "code",
   "execution_count": 72,
   "metadata": {},
   "outputs": [],
   "source": [
    "def logging(log, name):\n",
    "    name = name + '.txt'\n",
    "\n",
    "    with open(name, 'w') as f:\n",
    "        for elem in log:\n",
    "            for item in elem:\n",
    "                f.write(str(item))\n",
    "\n",
    "#             f.write('\\n')"
   ]
  },
  {
   "cell_type": "code",
   "execution_count": 73,
   "metadata": {},
   "outputs": [],
   "source": [
    "logging(log, 'log')"
   ]
  },
  {
   "cell_type": "code",
   "execution_count": null,
   "metadata": {},
   "outputs": [],
   "source": []
  }
 ],
 "metadata": {
  "kernelspec": {
   "display_name": "Python 3",
   "language": "python",
   "name": "python3"
  },
  "language_info": {
   "codemirror_mode": {
    "name": "ipython",
    "version": 3
   },
   "file_extension": ".py",
   "mimetype": "text/x-python",
   "name": "python",
   "nbconvert_exporter": "python",
   "pygments_lexer": "ipython3",
   "version": "3.7.5"
  }
 },
 "nbformat": 4,
 "nbformat_minor": 2
}
